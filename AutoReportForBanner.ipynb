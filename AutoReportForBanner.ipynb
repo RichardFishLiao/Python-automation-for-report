{
 "cells": [
  {
   "cell_type": "code",
   "execution_count": 1,
   "metadata": {},
   "outputs": [],
   "source": [
    "import numpy as np\n",
    "import pandas as pd"
   ]
  },
  {
   "cell_type": "code",
   "execution_count": 2,
   "metadata": {},
   "outputs": [],
   "source": [
    "data = pd.read_excel('Banners Monthly Raw Data 2019_01.xlsx',sheet_name =5)#利用read_excel 获取文档，sheetname是相关的sheet\n",
    "data[\"Year/Month\"] = data[\"Year/Month\"].astype('str')#强行把时间改成字符串格式\n",
    "amlist = pd.read_excel('amlist.xlsx',sheet_name=0,header=None)\n",
    "filter = amlist.values"
   ]
  },
  {
   "cell_type": "code",
   "execution_count": 3,
   "metadata": {},
   "outputs": [],
   "source": [
    "def cleanData(filter):\n",
    "    rawData = data.loc[data[\"Advertiser\"]==filter[0]]#将某一个客户名的数据筛选出来\n",
    "    rawData = data.loc[data[\"Order\"]==filter[1]]#将这个客户的Sales order 筛选出来\n",
    "    return rawData"
   ]
  },
  {
   "cell_type": "code",
   "execution_count": 1,
   "metadata": {
    "scrolled": true
   },
   "outputs": [],
   "source": [
    "#indexA是Initiative by month\n",
    "def indexA():\n",
    "    indexA=[\"Drop Initiative\",\"Year/Month\"]\n",
    "    return indexA\n",
    "#indexB 是Initiative by Month by Creative\n",
    "def indexB():\n",
    "    indexB = [\"Drop Initiative\",\"Year/Month\",\"Creative\"]\n",
    "    return indexB\n",
    "#indexC是 Banners by Month\n",
    "def indexC():\n",
    "    indexC = [\"Drop Initiative\",\"Line Item ID\",\"Position Path\",\"Line Item Duration\",\"Year/Month\"]\n",
    "    return indexC\n",
    "\n",
    "#indexD是 Banners by Month by Creative\n",
    "def indexD():\n",
    "    indexD = [\"Drop Initiative\",\"Line Item ID\",\"Position Path\",\"Line Item Duration\",\"Year/Month\",\"Creative\"]\n",
    "    return indexD\n",
    "#四个index代表不同需求下的不同sheet\n",
    "\n",
    "def SeriesMaker(rawData,index):\n",
    "    Grouped = rawData.groupby(index)#根据index的要求使用Groupby函数制作一个数据透视表\n",
    "    Group = Grouped.sum()#Groupby 过程中相同index的项采用sum方法加在一块显示\n",
    "    impression = Group[\"Ad server impressions\"]#获取用户浏览量\n",
    "    clicks = Group[\"Ad server clicks\"]#获取用户点击量\n",
    "    return impression, clicks\n",
    "\n",
    "\n",
    "\n",
    "#smallTotalMaker为了整合不同Drop Initiative的不同的total\n",
    "\n",
    "def smallTotalMaker(impression,clicks):\n",
    "    impreTotal = impression.groupby(\"Drop Initiative\")#先把不同drop initiative 的total都计算出来\n",
    "    cliTotal = clicks.groupby(\"Drop Initiative\")#同样的方法把点击量也计算出来\n",
    "    impreTotal = impreTotal.sum()#采用sum的方法，使用groupby函数之后必须用的\n",
    "    cliTotal = cliTotal.sum()\n",
    "    return impreTotal, cliTotal\n",
    "\n",
    "def smallCount(impression):\n",
    "    count = np.array(impression.index.labels[0])#利用Series的index 的labels进行分类计算有多少个drop_initiative，然后进行转化为数组类型\n",
    "    #但是由于此时的count是[0,0,0,1,1,1,2,2,2]的样子，需要去重复，采用set的方法实现一个无序不重复的对象\n",
    "    count = list(set(count))#然后再list转化为list\n",
    "    return count\n",
    "\n",
    "\n",
    "def combine(impression,impreTotal,e):\n",
    "        Drop_impression = impression.loc[impression.index.labels[0] == e]#将不同dropInitiative的点击量还有浏览量分别取出来，这个方法会用两次\n",
    "        #一次取出浏览量，一次取出点击量，懒就没有修改变量名字\n",
    "        smallTotal = pd.Series([impreTotal[e]],index =[\"%s total\"% impression.index.levels[0][e]])#将相应dropInitiative的小total取出来\n",
    "        #并且把index改成 Drop Initiative total \n",
    "        Drop_impression = Drop_impression.append(smallTotal) #整合两边数据\n",
    "        return Drop_impression\n",
    "\n",
    "def tableMaker(SeriesArray):\n",
    "    table = pd.DataFrame(SeriesArray)\n",
    "    table = table.T#转置表格，因为原table是反的\n",
    "    \n",
    "    return table\n",
    "\n",
    "def finalize(index):\n",
    "    index = index\n",
    "    rawTable = cleanData(i)#清洗数据，获取相应客户的信息\n",
    "    impression,clicks = SeriesMaker(rawTable,index)#获取浏览量还有点击量，这两个变量都是Series 类型\n",
    "    impreTotal,cliTotal = smallTotalMaker(impression,clicks)#获取小total\n",
    "    count  = smallCount(impression)#获取Drop Initiative 的数量\n",
    "    impreResult = pd.Series()#创建Series变量\n",
    "    cliResult = pd.Series()\n",
    "    for e in count:\n",
    "        impreResult = impreResult.append(combine(impression,impreTotal,e))#将整合的数据赋给新的Series\n",
    "        cliResult = cliResult.append(combine(clicks,cliTotal,e))\n",
    "\n",
    "    impreRealTotal = impreTotal.sum()#获取最后的大total\n",
    "    cliRealTotal = cliTotal.sum()\n",
    "    impreRealTotal = pd.Series([impreRealTotal],index=[\"Total\"])#给大total一个index\n",
    "    cliRealTotal = pd.Series([cliRealTotal],index=[\"Total\"])\n",
    "    impreResult=impreResult.append(impreRealTotal)#像上面一下，把total跟Series整合到一块\n",
    "    cliResult = cliResult.append(cliRealTotal)\n",
    "    CTR = cliResult/impreResult#计算得到CTR\n",
    "    CTR = CTR.apply(lambda x: format(x, '.2%'))#修改一下格式，变成小数点后两位的百分数\n",
    "    impreResult  = impreResult.apply(lambda x:format(x,','))#这个步骤会把数字变为带逗号的字符串，所有需要在CTR计算后才能修改格式，不然会报错\n",
    "    cliResult = cliResult.apply(lambda x:format(x,','))\n",
    "    table = tableMaker([impreResult,cliResult,CTR])#用函数把表格生成\n",
    "    table.rename(columns={table.columns[0]:\"Impressions Delivered\",table.columns[1]:\"Clicks Recorded\",table.columns[2]:\"CTR\"},inplace=True)\n",
    "    return table#输出表格\n",
    "    \n",
    "    \n",
    "\n",
    "\n",
    "\n",
    "    \n",
    "    \n",
    "\n",
    "    \n",
    "    \n"
   ]
  },
  {
   "cell_type": "code",
   "execution_count": 5,
   "metadata": {},
   "outputs": [],
   "source": [
    "OpenList = []"
   ]
  },
  {
   "cell_type": "code",
   "execution_count": 6,
   "metadata": {},
   "outputs": [],
   "source": [
    "opertive = pd.read_excel('Operative launch form 2019_01.xlsx',sheet_name=1)"
   ]
  },
  {
   "cell_type": "code",
   "execution_count": 7,
   "metadata": {},
   "outputs": [],
   "source": [
    "# for i in filter:\n",
    "# #     data = opertive.loc[opertive['Advertiser Name'] == i[0]]\n",
    "# #     duration = data[[\"Order Start Date\",\"Order End Date\"]].drop_duplicates()\n",
    "# #     start = duration[\"Order Start Date\"].values\n",
    "# #     end = duration[\"Order End Date\"].values\n",
    "#     data = i[1].split('_')\n",
    "#     data = data[1]\n",
    "#     print(data)"
   ]
  },
  {
   "cell_type": "code",
   "execution_count": 8,
   "metadata": {},
   "outputs": [],
   "source": [
    "def getDuration(i):\n",
    "    data = opertive.loc[opertive['Advertiser Name'] == i[0]]\n",
    "    duration = data[[\"Order Start Date\",\"Order End Date\"]].drop_duplicates()\n",
    "    start = duration[\"Order Start Date\"].values\n",
    "    end = duration[\"Order End Date\"].values\n",
    "    return start,end"
   ]
  },
  {
   "cell_type": "code",
   "execution_count": 9,
   "metadata": {},
   "outputs": [],
   "source": [
    "def getOrderName(i):\n",
    "    data = i[1].split('_')\n",
    "    data = data[1]\n",
    "    return data"
   ]
  },
  {
   "cell_type": "code",
   "execution_count": 10,
   "metadata": {},
   "outputs": [],
   "source": [
    "def getHeader(i,index):\n",
    "    advertiser = i[0]\n",
    "    DurationStart,DurationEnd = getDuration(i)\n",
    "    orderName = getOrderName(i)\n",
    "    tabName = index\n",
    "    header =pd.DataFrame([[advertiser,orderName,DurationStart,DurationEnd,tabName]])\n",
    "    header = header.T\n",
    "    return header"
   ]
  },
  {
   "cell_type": "code",
   "execution_count": null,
   "metadata": {},
   "outputs": [],
   "source": []
  },
  {
   "cell_type": "code",
   "execution_count": 12,
   "metadata": {},
   "outputs": [
    {
     "name": "stdout",
     "output_type": "stream",
     "text": [
      "['这个客户错误：UPMC-University of Pittsburgh Medical Center'\n",
      " '这个客户错误：1006695_UPMC Magee Women?€?s Hospital Q4 2018 Digital Campaign']\n",
      "[Errno 22] Invalid argument: 'C:\\\\Users\\\\lliao\\\\Desktop\\\\Project\\\\2019_01A\\\\UPMC_Magee_Women?€?s_Hospital_Q4_2018_Digital_Campaign 2019_01.xlsx'\n"
     ]
    }
   ],
   "source": [
    "for i in filter:\n",
    "    try:#由于输出过程中很有可能因为某些文件的格式问题报错，设置异常处理\n",
    "        temp = i[1].split('_')\n",
    "        a=temp[1].split(' ')\n",
    "        str = \"_\"\n",
    "        b = str.join(a)\n",
    "        if (b.find('/')!=-1):\n",
    "            b = b.replace(\"/\",\"-\")\n",
    "        if (b.find(':')!= -1):\n",
    "            b = b.replace(\":\",\"_\")\n",
    "        #以上过程把文件名字改成可以输出不报错的格式\n",
    "        path = \"C:\\\\Users\\\\lliao\\\\Desktop\\\\Project\\\\2019_01A\\\\\"+b+\" 2019_01.xlsx\"#输出的路径\n",
    "        writer = pd.ExcelWriter(path)#设定一个Excel的写入变量\n",
    "        OpenList.append(path)\n",
    "        tableA = finalize(indexA())#根据不同需求建立表格\n",
    "        tableB = finalize(indexB())\n",
    "        tableC = finalize(indexC())\n",
    "        tableD = finalize(indexD())\n",
    "        if(tableA.loc['Total']['Impressions Delivered'] == '0'):#如果这个客户没有banner数据就略过不需要\n",
    "            continue\n",
    "        tableA.to_excel(writer,sheet_name='Initiative by Month')#修改sheetname\n",
    "        tableB.to_excel(writer,sheet_name='Initiative by Month by Creative')\n",
    "        tableC.to_excel(writer,sheet_name='Banners by Month')\n",
    "        tableD.to_excel(writer,sheet_name='Banners by Month by Creative')\n",
    "        headerA = getHeader(i,'Initiative by Month')\n",
    "        headerB = getHeader(i,'Initiative by Month by Creative')\n",
    "        headerC = getHeader(i,'Banners by Month')\n",
    "        headerD = getHeader(i,'Banners by Month by Creative')\n",
    "        headerA.to_excel(writer,sheet_name='Initiative by Month',startcol=10,header=False,index=False)\n",
    "        headerB.to_excel(writer,sheet_name='Initiative by Month by Creative',startcol=10,header=False,index=False)\n",
    "        headerC.to_excel(writer,sheet_name='Banners by Month',startcol=10,header=False,index=False)\n",
    "        headerD.to_excel(writer,sheet_name='Banners by Month by Creative',startcol=10,header=False,index=False)\n",
    "        writer.save()\n",
    "    except IOError as error:\n",
    "        print(\"这个客户错误：\"+ i)#有错误就报错，输出，但是不影响程序运行\n",
    "        print(error)\n",
    "       "
   ]
  },
  {
   "cell_type": "code",
   "execution_count": null,
   "metadata": {},
   "outputs": [],
   "source": []
  },
  {
   "cell_type": "code",
   "execution_count": null,
   "metadata": {},
   "outputs": [],
   "source": []
  },
  {
   "cell_type": "code",
   "execution_count": null,
   "metadata": {},
   "outputs": [],
   "source": []
  },
  {
   "cell_type": "code",
   "execution_count": null,
   "metadata": {},
   "outputs": [],
   "source": []
  },
  {
   "cell_type": "code",
   "execution_count": null,
   "metadata": {},
   "outputs": [],
   "source": []
  }
 ],
 "metadata": {
  "kernelspec": {
   "display_name": "Python 3",
   "language": "python",
   "name": "python3"
  },
  "language_info": {
   "codemirror_mode": {
    "name": "ipython",
    "version": 3
   },
   "file_extension": ".py",
   "mimetype": "text/x-python",
   "name": "python",
   "nbconvert_exporter": "python",
   "pygments_lexer": "ipython3",
   "version": "3.7.1"
  }
 },
 "nbformat": 4,
 "nbformat_minor": 2
}
